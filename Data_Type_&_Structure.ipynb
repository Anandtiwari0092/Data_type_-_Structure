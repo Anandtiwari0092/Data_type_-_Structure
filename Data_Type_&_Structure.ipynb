{
  "nbformat": 4,
  "nbformat_minor": 0,
  "metadata": {
    "colab": {
      "provenance": []
    },
    "kernelspec": {
      "name": "python3",
      "display_name": "Python 3"
    },
    "language_info": {
      "name": "python"
    }
  },
  "cells": [
    {
      "cell_type": "markdown",
      "source": [
        "**1. What are Data Structure and Why are they important?**"
      ],
      "metadata": {
        "id": "xB3fOE5kyhPx"
      }
    },
    {
      "cell_type": "code",
      "execution_count": null,
      "metadata": {
        "id": "QDDxioZDTK4E"
      },
      "outputs": [],
      "source": [
        "# Data structure: are the way of organizing or storing the data so that they can accessed and modifying efficiently.\n",
        "# Importance of Data Structure:\n",
        "# 1. helps to organize large amount of data.\n",
        "# 2. makes the code easier to write, maintain and read\n",
        "# 3. data structure can improve pragram's speed and can improve memory usage."
      ]
    },
    {
      "cell_type": "markdown",
      "source": [
        "**2. Explain the difference between mutable and immutable data types with examples.**"
      ],
      "metadata": {
        "id": "1h00ZL9Jz7bZ"
      }
    },
    {
      "cell_type": "code",
      "source": [
        "# Mutable Object: the object that can be modify after creation.\n",
        "# example: list, sets, dictionary\n",
        "my_list = [1, 2, 3]\n",
        "my_list.append(4)\n",
        "print(my_list)\n",
        "\n",
        "# Imutable Object: the object that can not be modify after creation. We have to create a new object to modify the original. example -> string, tuples, etc.\n",
        "x = (1, 2, 3)\n",
        "x[0] = 20 # this will show the error becouse it is imutable\n",
        "\n",
        "\n"
      ],
      "metadata": {
        "colab": {
          "base_uri": "https://localhost:8080/",
          "height": 228
        },
        "id": "mNTxBf7m0Ib2",
        "outputId": "a9d7fad4-5c27-45d4-ac7b-0376fc72af78"
      },
      "execution_count": null,
      "outputs": [
        {
          "output_type": "stream",
          "name": "stdout",
          "text": [
            "[1, 2, 3, 4]\n"
          ]
        },
        {
          "output_type": "error",
          "ename": "TypeError",
          "evalue": "'tuple' object does not support item assignment",
          "traceback": [
            "\u001b[0;31m---------------------------------------------------------------------------\u001b[0m",
            "\u001b[0;31mTypeError\u001b[0m                                 Traceback (most recent call last)",
            "\u001b[0;32m<ipython-input-4-4f5f0ea435c3>\u001b[0m in \u001b[0;36m<cell line: 0>\u001b[0;34m()\u001b[0m\n\u001b[1;32m      7\u001b[0m \u001b[0;31m# Imutable Object: the object that can not be modify after creation. example -> string, tuples, etc.\u001b[0m\u001b[0;34m\u001b[0m\u001b[0;34m\u001b[0m\u001b[0m\n\u001b[1;32m      8\u001b[0m \u001b[0mx\u001b[0m \u001b[0;34m=\u001b[0m \u001b[0;34m(\u001b[0m\u001b[0;36m1\u001b[0m\u001b[0;34m,\u001b[0m \u001b[0;36m2\u001b[0m\u001b[0;34m,\u001b[0m \u001b[0;36m3\u001b[0m\u001b[0;34m)\u001b[0m\u001b[0;34m\u001b[0m\u001b[0;34m\u001b[0m\u001b[0m\n\u001b[0;32m----> 9\u001b[0;31m \u001b[0mx\u001b[0m\u001b[0;34m[\u001b[0m\u001b[0;36m0\u001b[0m\u001b[0;34m]\u001b[0m \u001b[0;34m=\u001b[0m \u001b[0;36m20\u001b[0m\u001b[0;34m\u001b[0m\u001b[0;34m\u001b[0m\u001b[0m\n\u001b[0m\u001b[1;32m     10\u001b[0m \u001b[0;34m\u001b[0m\u001b[0m\n\u001b[1;32m     11\u001b[0m \u001b[0;34m\u001b[0m\u001b[0m\n",
            "\u001b[0;31mTypeError\u001b[0m: 'tuple' object does not support item assignment"
          ]
        }
      ]
    },
    {
      "cell_type": "markdown",
      "source": [
        "**3. What are the main differences between lists and tuples in Python**"
      ],
      "metadata": {
        "id": "RyC27Vs039Ja"
      }
    },
    {
      "cell_type": "code",
      "source": [
        "# Ans - difference between list and tuple :\n",
        "# list is mutable and tuple is immutable.\n",
        "# when we need to change the data we use the LIST but when there is no need to chnage the data tuple is used.\n",
        "# Tuple is more efficient than list due to its immutability.\n",
        "# list is represented by [] and tuple is represented by ()."
      ],
      "metadata": {
        "id": "9ecYwUmR4_7r"
      },
      "execution_count": null,
      "outputs": []
    },
    {
      "cell_type": "markdown",
      "source": [
        "**4. Describe how dictionaries store dataP**"
      ],
      "metadata": {
        "id": "8YA-DhFT5BB5"
      }
    },
    {
      "cell_type": "code",
      "source": [
        "# Ans - Dictionaries store data in key value pair. it generate unique hash() for every keys and this hash() decide the location of memory and store that key value there."
      ],
      "metadata": {
        "id": "9b8ts0IY5rIO"
      },
      "execution_count": null,
      "outputs": []
    },
    {
      "cell_type": "markdown",
      "source": [
        "**5. Why might you use a set instead of a list in Python**"
      ],
      "metadata": {
        "id": "3X9xxr_D62z5"
      }
    },
    {
      "cell_type": "code",
      "source": [
        "# Ans - 1. Using set make pragram faster than list,\n",
        "#       2. Set remove duplicate value automatically. where List can have multiple duplicate.\n",
        "#       3. Using Set is more efficient in mathematical operation than list."
      ],
      "metadata": {
        "id": "BRRgm7s87CTZ"
      },
      "execution_count": null,
      "outputs": []
    },
    {
      "cell_type": "markdown",
      "source": [
        "6. What is a string in Python, and how is it different from a list ?"
      ],
      "metadata": {
        "id": "st4pK2y3Lf1w"
      }
    },
    {
      "cell_type": "code",
      "source": [
        "# Ans- difference between string and list\n",
        "\n",
        "# string:\n",
        "# 1. string is a sequence of characters.\n",
        "# 2. string is immutable.\n",
        "# 3. string are used to store mainly text and messages.\n",
        "# 4. string are used for text manipulation only.\n",
        "\n",
        "# List:\n",
        "# 1. list can store any type of data.\n",
        "# 2. List is mutable.\n",
        "# 3. A list is used to store a group of data, which can also be of different types."
      ],
      "metadata": {
        "id": "SnwBGSCWL2du"
      },
      "execution_count": null,
      "outputs": []
    },
    {
      "cell_type": "markdown",
      "source": [
        "7. How do tuples ensure data integrity in Python ?"
      ],
      "metadata": {
        "id": "XVOVBHrNNcTb"
      }
    },
    {
      "cell_type": "code",
      "source": [
        "# Ans - Tuples ensure data integrity in Python because they are immutable. once they created their element can not be changed, remove or add.\n",
        "#       due to its unchangable property the data inside tuple stays fixed and rigid and protect from accidental changes."
      ],
      "metadata": {
        "id": "LG8zufCON1Oo"
      },
      "execution_count": null,
      "outputs": []
    },
    {
      "cell_type": "markdown",
      "source": [
        "8.  What is a hash table, and how does it relate to dictionaries in Python ?"
      ],
      "metadata": {
        "id": "0f9F1_1dOkU0"
      }
    },
    {
      "cell_type": "code",
      "source": [
        "# Ans - A hash table is data structure that store data in key valued pair. it works converting the key value into unique number called hash which decide the corresponding data where it stored.\n",
        "# dictionaries are implemented using hash tables.\n",
        "# . Python uses the key’s hash to quickly find the exact memory location which allows for very fast data retrieval, insertion, and deletion.\n",
        "# So, behind the scenes, a dictionary uses a hash table to efficiently manage and access data based on keys."
      ],
      "metadata": {
        "id": "MPy7-qbQQrBA"
      },
      "execution_count": null,
      "outputs": []
    },
    {
      "cell_type": "markdown",
      "source": [
        "9. Can lists contain different data types in Python ?"
      ],
      "metadata": {
        "id": "ZDV5t4cRR6yr"
      }
    },
    {
      "cell_type": "code",
      "source": [
        "# Ans - yes ."
      ],
      "metadata": {
        "id": "6Q8NIEauR-AR"
      },
      "execution_count": null,
      "outputs": []
    },
    {
      "cell_type": "markdown",
      "source": [
        "10.  Explain why strings are immutable in Python ?"
      ],
      "metadata": {
        "id": "SDx4zFGDSG84"
      }
    },
    {
      "cell_type": "code",
      "source": [
        "# Ans - string can not be changed or modified after creation that's why string is immutable.\n",
        "# and to ensure safety and performance of program. it's can not be changed accidently means if string same string is used in different place and changing in one string won't effect others.\n",
        "# immutable strings allows to reuse of same memory."
      ],
      "metadata": {
        "id": "agl77k7_SLgW"
      },
      "execution_count": null,
      "outputs": []
    },
    {
      "cell_type": "markdown",
      "source": [
        "11. P What advantages do dictionaries offer over lists for certain tasks"
      ],
      "metadata": {
        "id": "MW0dJZySULvm"
      }
    },
    {
      "cell_type": "code",
      "source": [
        "# Ans - 1. In dictionary you can access data directly but in list you have to access all tha data.\n",
        "#       2. dictionary uses key value paired to access the data and list uses the indexes.\n",
        "#       3. dictionary let you organize the data clearlly and meaningful.\n",
        "#       4. you can make links with dictionary but can not with list."
      ],
      "metadata": {
        "id": "vTmqLF4EUXxe"
      },
      "execution_count": null,
      "outputs": []
    },
    {
      "cell_type": "markdown",
      "source": [
        "12.  Describe a scenario where using a tuple would be preferable over a list ?"
      ],
      "metadata": {
        "id": "4jM65BaGWyMD"
      }
    },
    {
      "cell_type": "code",
      "source": [
        "# ANS - consider a scenario where in program you have to put coordinates of city, here using a tuple is more convenient than using list\n",
        "\n",
        "# lest suppose latitude and longitude of panipat city\n",
        "city_panipat = (25.333, 25.2222)\n",
        "# if someone tries to change it , will show error\n",
        "city_panipat[0] = 25.2223 # this will show an error\n",
        "\n",
        "# but with list the value will be changed\n",
        "city_panipat = [25.333, 25.2222]\n",
        "city_panipat[0] = 25.2223\n",
        "print(city_panipat) # output will be [25.2223, 25.2222]"
      ],
      "metadata": {
        "id": "MIpqNmPeW2Rx"
      },
      "execution_count": null,
      "outputs": []
    },
    {
      "cell_type": "markdown",
      "source": [
        "13. How do sets handle duplicate values in Python ?"
      ],
      "metadata": {
        "id": "lsSfqJLiZY8f"
      }
    },
    {
      "cell_type": "code",
      "source": [
        "# Ans - In Python set automatically remove the duplicate value. even you enter the duplicate value it ignores that value\n",
        "# let suppose  i organize the concert in my town and people registring multiple time but i need oly one copy of each person.\n",
        "\n",
        "name = [\"anand\", \"aman\", \"khushbu\", \"anand\", \"ankit\", \"ankit\"]\n",
        "# removing duplicates\n",
        "unique_name = set(name)\n",
        "print(unique_name) # output: {'anand', 'khushbu', 'ankit', 'aman'}"
      ],
      "metadata": {
        "colab": {
          "base_uri": "https://localhost:8080/"
        },
        "id": "Wy9_DAsrZqiD",
        "outputId": "bbb8d6dc-83f3-45e5-9b17-d24374a4cb59"
      },
      "execution_count": null,
      "outputs": [
        {
          "output_type": "stream",
          "name": "stdout",
          "text": [
            "{'anand', 'khushbu', 'ankit', 'aman'}\n"
          ]
        }
      ]
    },
    {
      "cell_type": "markdown",
      "source": [
        "14.  How does the “in” keyword work differently for lists and dictionaries ?"
      ],
      "metadata": {
        "id": "YXHQ9X10e_m7"
      }
    },
    {
      "cell_type": "code",
      "source": [
        "# Ans - the \"in\" keyword used to find something exist or not for example.\n",
        "my_list = [1, 2, \"anand\", \"ajay\"]\n",
        "print(\"anand\" in my_list) # output: true\n",
        "\n",
        "# in dictionary:\n",
        "person = {\"name\": \"anand\", \"age\": 22, \"city\": \"panipat\"}\n",
        "print(\"name\" in person) # output: true"
      ],
      "metadata": {
        "colab": {
          "base_uri": "https://localhost:8080/"
        },
        "id": "tyi8IKjjfGSl",
        "outputId": "c913f93d-68db-42ba-9114-76c833f46d50"
      },
      "execution_count": null,
      "outputs": [
        {
          "output_type": "stream",
          "name": "stdout",
          "text": [
            "True\n",
            "True\n"
          ]
        }
      ]
    },
    {
      "cell_type": "markdown",
      "source": [
        "15. Can you modify the elements of a tuple? Explain why or why not ?"
      ],
      "metadata": {
        "id": "oetGzLi-lMCc"
      }
    },
    {
      "cell_type": "code",
      "source": [
        "# Ans - you can not modify the element of tuple because tuple is mutable which makes it unchangable and protected. once tuple is created the content in it can not be changed.\n",
        "# reason : it helps us to kepp data secure and protected."
      ],
      "metadata": {
        "id": "qo6aK9CIlT6p"
      },
      "execution_count": null,
      "outputs": []
    },
    {
      "cell_type": "markdown",
      "source": [
        "16.  What is a nested dictionary, and give an example of its use case ?"
      ],
      "metadata": {
        "id": "upkvm3dymM_j"
      }
    },
    {
      "cell_type": "code",
      "source": [
        "# Ans - A Nested Dictionary is a dictionary inside another dictionary\n",
        "# it is used when one item has multiple related values grouped together. for example:\n",
        "\n",
        "# Suppose you want to store details of multiple students\n",
        "\n",
        "students = {\n",
        "    \"student1\" : {\"name\": \"anand\", \"age\": 22, \"city\": \"panipat\"},\n",
        "    \"student2\" : {\"name\": \"aman\", \"age\": 23, \"city\": \"delhi\"},\n",
        "    \"student3\" : {\"name\": \"ankit\", \"age\": 23, \"city\": \"delhi\"},\n",
        "}\n",
        "# here student is main dictionary and student1, student2, student3 are key and name, age, city with detail is another dictionary which is called nested dictionary.\n"
      ],
      "metadata": {
        "id": "D2oM5HEPmRcT"
      },
      "execution_count": null,
      "outputs": []
    },
    {
      "cell_type": "markdown",
      "source": [
        "17. Describe the time complexity of accessing elements in a dictionary ?"
      ],
      "metadata": {
        "id": "3oi9yagVoIRo"
      }
    },
    {
      "cell_type": "code",
      "source": [
        "# Ans - Time complexity of accessing elements in a dictionary is O(1) which means its very fast because dictionaries use a hash table to find values quickly by key\n",
        "# and in worse case it is 0(n) which is slow which occure during hash collision."
      ],
      "metadata": {
        "id": "38FgyzinoN2N"
      },
      "execution_count": null,
      "outputs": []
    },
    {
      "cell_type": "markdown",
      "source": [
        "18. In what situations are lists preferred over dictionaries ?"
      ],
      "metadata": {
        "id": "lAJN29I8rGou"
      }
    },
    {
      "cell_type": "code",
      "source": [
        "# Ans - if data is rquired in specific order than we use list over dictionary.\n",
        "# for example:\n",
        "\n",
        "# let i am going for shopping and i have grocery list,\n",
        "grocery = [\"egg\", \"potato\", \"tomato\", \"egg\"]\n",
        "# and here order matter becouse i want to buy gracery all in order i have listed and egg are written two time becouse i want two packets.\n",
        "# and i need only item name no much information needed here.\n",
        "\n",
        "# but if i need to list grocery with quantity than i have to use the dictionary over list.\n"
      ],
      "metadata": {
        "id": "07_tddxnrMZQ"
      },
      "execution_count": null,
      "outputs": []
    },
    {
      "cell_type": "markdown",
      "source": [
        "19.  Why are dictionaries considered unordered, and how does that affect data retrieval ?"
      ],
      "metadata": {
        "id": "NIq29HlstI6K"
      }
    },
    {
      "cell_type": "code",
      "source": [
        "# Ans - because in dictionary you can access the data only when you know thw key value. dictionary does not have index system.\n",
        "# Dictionaries are designed for fast lookup by key, not for order-based data access."
      ],
      "metadata": {
        "id": "npV8vaXqtQQC"
      },
      "execution_count": null,
      "outputs": []
    },
    {
      "cell_type": "markdown",
      "source": [
        "20. Explain the difference between a list and a dictionary in terms of data retrieval."
      ],
      "metadata": {
        "id": "5ZNpfNfEu8qt"
      }
    },
    {
      "cell_type": "code",
      "source": [
        "# Ans - difference between a list and a dictionary in terms of data retrieval.\n",
        "# 1. list has index system to access data and dictinary has key value to access the data.\n",
        "# 2. there is need to remember the position of item in list and key name of item in dictionary.\n",
        "# 3. list is ordered and dictionary is unordered.\n",
        "# 4. list allows duplicate value and dictionary also allows but you have to remember the key name."
      ],
      "metadata": {
        "id": "mkNrpuZavDsC"
      },
      "execution_count": null,
      "outputs": []
    },
    {
      "cell_type": "markdown",
      "source": [
        "# Practicle Questions"
      ],
      "metadata": {
        "id": "A61WaELYxBMC"
      }
    },
    {
      "cell_type": "markdown",
      "source": [
        "1.  Write a code to create a string with your name and print it ?"
      ],
      "metadata": {
        "id": "KgeGvio-xPuL"
      }
    },
    {
      "cell_type": "code",
      "source": [
        "# Write a code to create a string with your name and print it\n",
        "\n",
        "my_name = \"Anand Tiwari\"\n",
        "# print the name\n",
        "\n",
        "print(f\"My name is:\", my_name)"
      ],
      "metadata": {
        "colab": {
          "base_uri": "https://localhost:8080/"
        },
        "id": "QTgPSUVixbEt",
        "outputId": "1f4be3dc-349a-4796-ee2b-8da17cdd4c1b"
      },
      "execution_count": null,
      "outputs": [
        {
          "output_type": "stream",
          "name": "stdout",
          "text": [
            "My name is: Anand Tiwari\n"
          ]
        }
      ]
    },
    {
      "cell_type": "markdown",
      "source": [
        "2. Write a code to find the length of the string \"Hello World\"."
      ],
      "metadata": {
        "id": "mZ__FruJyTjM"
      }
    },
    {
      "cell_type": "code",
      "source": [
        "# to find the length of the string \"Hello World\".\n",
        "\n",
        "my_string = \"Hello World\"\n",
        "string_length = len(my_string)\n",
        "print(string_length)\n"
      ],
      "metadata": {
        "colab": {
          "base_uri": "https://localhost:8080/"
        },
        "id": "8T2wlifLyXXr",
        "outputId": "e631365d-a12a-49c3-e1bd-ba0413863005"
      },
      "execution_count": null,
      "outputs": [
        {
          "output_type": "stream",
          "name": "stdout",
          "text": [
            "11\n"
          ]
        }
      ]
    },
    {
      "cell_type": "markdown",
      "source": [
        "3.  Write a code to slice the first 3 characters from the string \"Python Programming\"."
      ],
      "metadata": {
        "id": "BHi59s3ZzP-1"
      }
    },
    {
      "cell_type": "code",
      "source": [
        "# Define the string\n",
        "text = \"Python Programming\"\n",
        "\n",
        "# Slice the first 3 characters\n",
        "sliced_text = text[:3]\n",
        "\n",
        "# Print the result\n",
        "print(\"First 3 characters:\", sliced_text)"
      ],
      "metadata": {
        "colab": {
          "base_uri": "https://localhost:8080/"
        },
        "id": "-_rXKtYxzULT",
        "outputId": "fef9c558-ad04-4d35-94fc-eb68f560b9ed"
      },
      "execution_count": null,
      "outputs": [
        {
          "output_type": "stream",
          "name": "stdout",
          "text": [
            "First 3 characters: Pyt\n"
          ]
        }
      ]
    },
    {
      "cell_type": "markdown",
      "source": [
        "4. Write a code to convert the string \"hello\" to uppercase."
      ],
      "metadata": {
        "id": "soCKMSwizv35"
      }
    },
    {
      "cell_type": "code",
      "source": [
        "# Define the string\n",
        "text = \"hello\"\n",
        "\n",
        "# Convert to uppercase\n",
        "uppercase_text = text.upper()\n",
        "\n",
        "# Print the result\n",
        "print(\"Uppercase:\", uppercase_text)"
      ],
      "metadata": {
        "colab": {
          "base_uri": "https://localhost:8080/"
        },
        "id": "Cjg8Cy2GzxrJ",
        "outputId": "02e7212c-ae0b-452a-e830-aa77444400b1"
      },
      "execution_count": null,
      "outputs": [
        {
          "output_type": "stream",
          "name": "stdout",
          "text": [
            "Uppercase: HELLO\n"
          ]
        }
      ]
    },
    {
      "cell_type": "markdown",
      "source": [
        "5. Write a code to replace the word \"apple\" with \"orange\" in the string \"I like apple\"."
      ],
      "metadata": {
        "id": "cLrfWfBrz5Bk"
      }
    },
    {
      "cell_type": "code",
      "source": [
        "# Original string\n",
        "text = \"I like apple\"\n",
        "\n",
        "# Replace 'apple' with 'orange'\n",
        "new_text = text.replace(\"apple\", \"orange\")\n",
        "\n",
        "# Print the result\n",
        "print(\"Updated string:\", new_text)"
      ],
      "metadata": {
        "colab": {
          "base_uri": "https://localhost:8080/"
        },
        "id": "7EebtXQhz-pl",
        "outputId": "60a77cd0-d71b-4082-90d5-0add389f31e9"
      },
      "execution_count": null,
      "outputs": [
        {
          "output_type": "stream",
          "name": "stdout",
          "text": [
            "Updated string: I like orange\n"
          ]
        }
      ]
    },
    {
      "cell_type": "markdown",
      "source": [
        "6. Write a code to create a list with numbers 1 to 5 and print it\n"
      ],
      "metadata": {
        "id": "V7Yt1SIc0OAl"
      }
    },
    {
      "cell_type": "code",
      "source": [
        "# Create a list with numbers 1 to 5\n",
        "numbers = [1, 2, 3, 4, 5]\n",
        "\n",
        "# Print the list\n",
        "print(\"List of numbers:\", numbers)"
      ],
      "metadata": {
        "colab": {
          "base_uri": "https://localhost:8080/"
        },
        "id": "OeNVAlK80P5J",
        "outputId": "fa47df81-0731-45bf-c035-27d37f32f8d8"
      },
      "execution_count": null,
      "outputs": [
        {
          "output_type": "stream",
          "name": "stdout",
          "text": [
            "List of numbers: [1, 2, 3, 4, 5]\n"
          ]
        }
      ]
    },
    {
      "cell_type": "markdown",
      "source": [
        "7. Write a code to append the number 10 to the list [1, 2, 3, 4]"
      ],
      "metadata": {
        "id": "E7gufxOw0XvK"
      }
    },
    {
      "cell_type": "code",
      "source": [
        "# Original list\n",
        "numbers = [1, 2, 3, 4]\n",
        "\n",
        "# Append 10 to the list\n",
        "numbers.append(10)\n",
        "\n",
        "# Print the updated list\n",
        "print(\"Updated list:\", numbers)"
      ],
      "metadata": {
        "id": "4XQS5d4s0cNJ"
      },
      "execution_count": null,
      "outputs": []
    },
    {
      "cell_type": "markdown",
      "source": [
        "8.  Write a code to remove the number 3 from the list [1, 2, 3, 4, 5]."
      ],
      "metadata": {
        "id": "FddLb2xp0gvo"
      }
    },
    {
      "cell_type": "code",
      "source": [
        "# Original list\n",
        "numbers = [1, 2, 3, 4, 5]\n",
        "\n",
        "# Remove the number 3\n",
        "numbers.remove(3)\n",
        "\n",
        "# Print the updated list\n",
        "print(\"Updated list:\", numbers)"
      ],
      "metadata": {
        "colab": {
          "base_uri": "https://localhost:8080/"
        },
        "id": "4KJtv1sv0xe-",
        "outputId": "19306c58-9f37-43bd-ce1e-72abdce7d217"
      },
      "execution_count": null,
      "outputs": [
        {
          "output_type": "stream",
          "name": "stdout",
          "text": [
            "Updated list: [1, 2, 4, 5]\n"
          ]
        }
      ]
    },
    {
      "cell_type": "markdown",
      "source": [
        "9. Write a code to access the second element in the list ['a', 'b', 'c', 'd']."
      ],
      "metadata": {
        "id": "Zhk3fDOK03AU"
      }
    },
    {
      "cell_type": "code",
      "source": [
        "# Define the list\n",
        "letters = ['a', 'b', 'c', 'd']\n",
        "\n",
        "# Access the second element (index 1)\n",
        "second_element = letters[1]\n",
        "\n",
        "# Print the result\n",
        "print(\"Second element:\", second_element)"
      ],
      "metadata": {
        "id": "KMi52fLA07xW"
      },
      "execution_count": null,
      "outputs": []
    },
    {
      "cell_type": "markdown",
      "source": [
        "10.  Write a code to reverse the list [10, 20, 30, 40, 50]."
      ],
      "metadata": {
        "id": "UKeIEZTw0_KD"
      }
    },
    {
      "cell_type": "code",
      "source": [
        "# Original list\n",
        "numbers = [10, 20, 30, 40, 50]\n",
        "\n",
        "# Reverse the list\n",
        "numbers.reverse()\n",
        "\n",
        "# Print the reversed list\n",
        "print(\"Reversed list:\", numbers)"
      ],
      "metadata": {
        "colab": {
          "base_uri": "https://localhost:8080/"
        },
        "id": "mrsmjANK1Dfz",
        "outputId": "41556c8f-62b0-4473-cac4-52fe4902560b"
      },
      "execution_count": null,
      "outputs": [
        {
          "output_type": "stream",
          "name": "stdout",
          "text": [
            "Reversed list: [50, 40, 30, 20, 10]\n"
          ]
        }
      ]
    },
    {
      "cell_type": "markdown",
      "source": [
        "11. . Write a code to create a tuple with the elements 100, 200, 300 and print it."
      ],
      "metadata": {
        "id": "uSozju8B1OP1"
      }
    },
    {
      "cell_type": "code",
      "source": [
        "# Create a tuple\n",
        "my_tuple = (100, 200, 300)\n",
        "\n",
        "# Print the tuple\n",
        "print(\"Tuple:\", my_tuple)"
      ],
      "metadata": {
        "colab": {
          "base_uri": "https://localhost:8080/"
        },
        "id": "pv-vDizw1UKK",
        "outputId": "8fef58fd-517e-4d94-9e44-09484ab3a33e"
      },
      "execution_count": null,
      "outputs": [
        {
          "output_type": "stream",
          "name": "stdout",
          "text": [
            "Tuple: (100, 200, 300)\n"
          ]
        }
      ]
    },
    {
      "cell_type": "markdown",
      "source": [
        "12.  Write a code to access the second-to-last element of the tuple ('red', 'green', 'blue', 'yellow')."
      ],
      "metadata": {
        "id": "mS9xmh4R1Ze_"
      }
    },
    {
      "cell_type": "code",
      "source": [
        "# Define the tuple\n",
        "colors = ('red', 'green', 'blue', 'yellow')\n",
        "\n",
        "# Access the second-to-last element\n",
        "second_last = colors[-2]\n",
        "\n",
        "# Print the result\n",
        "print(\"Second-to-last element:\", second_last)\n"
      ],
      "metadata": {
        "colab": {
          "base_uri": "https://localhost:8080/"
        },
        "id": "nmR15-9d1dku",
        "outputId": "96ccc84c-9476-4986-b3d4-9b957f5c511a"
      },
      "execution_count": null,
      "outputs": [
        {
          "output_type": "stream",
          "name": "stdout",
          "text": [
            "Second-to-last element: blue\n"
          ]
        }
      ]
    },
    {
      "cell_type": "markdown",
      "source": [
        "13.  Write a code to find the minimum number in the tuple (10, 20, 5, 15)."
      ],
      "metadata": {
        "id": "ifR20PV-1hYu"
      }
    },
    {
      "cell_type": "code",
      "source": [
        "# Define the tuple\n",
        "numbers = (10, 20, 5, 15)\n",
        "\n",
        "# Find the minimum number\n",
        "minimum = min(numbers)\n",
        "\n",
        "# Print the result\n",
        "print(\"Minimum number:\", minimum)"
      ],
      "metadata": {
        "colab": {
          "base_uri": "https://localhost:8080/"
        },
        "id": "iN3iJgpt1l6R",
        "outputId": "7095d504-0ea6-4f57-f80b-03116bbe399b"
      },
      "execution_count": null,
      "outputs": [
        {
          "output_type": "stream",
          "name": "stdout",
          "text": [
            "Minimum number: 5\n"
          ]
        }
      ]
    },
    {
      "cell_type": "markdown",
      "source": [
        "14.  Write a code to find the index of the element \"cat\" in the tuple ('dog', 'cat', 'rabbit')"
      ],
      "metadata": {
        "id": "E0McCGEv1pTx"
      }
    },
    {
      "cell_type": "code",
      "source": [
        "# Define the tuple\n",
        "animals = ('dog', 'cat', 'rabbit')\n",
        "\n",
        "# Find the index of 'cat'\n",
        "index_of_cat = animals.index('cat')\n",
        "\n",
        "# Print the result\n",
        "print(\"Index of 'cat':\", index_of_cat)"
      ],
      "metadata": {
        "colab": {
          "base_uri": "https://localhost:8080/"
        },
        "id": "f5apTuFg1zmz",
        "outputId": "60d71724-baa8-47cc-c817-7aa3e96e4461"
      },
      "execution_count": null,
      "outputs": [
        {
          "output_type": "stream",
          "name": "stdout",
          "text": [
            "Index of 'cat': 1\n"
          ]
        }
      ]
    },
    {
      "cell_type": "markdown",
      "source": [
        "15.  Write a code to create a tuple containing three different fruits and check if \"kiwi\" is in it."
      ],
      "metadata": {
        "id": "djbi8xlp2BP7"
      }
    },
    {
      "cell_type": "code",
      "source": [
        "# Create a tuple with fruits\n",
        "fruits = (\"apple\", \"banana\", \"mango\")\n",
        "\n",
        "# Check if 'kiwi' is in the tuple\n",
        "if \"kiwi\" in fruits:\n",
        "    print(\"Kiwi is in the tuple.\")\n",
        "else:\n",
        "    print(\"Kiwi is not in the tuple.\")"
      ],
      "metadata": {
        "colab": {
          "base_uri": "https://localhost:8080/"
        },
        "id": "8TKzajGx2H68",
        "outputId": "bd032788-7a4b-401c-abc2-4b96a1fc5469"
      },
      "execution_count": null,
      "outputs": [
        {
          "output_type": "stream",
          "name": "stdout",
          "text": [
            "Kiwi is not in the tuple.\n"
          ]
        }
      ]
    },
    {
      "cell_type": "markdown",
      "source": [
        "16. Write a code to create a set with the elements 'a', 'b', 'c' and print it."
      ],
      "metadata": {
        "id": "pnXgrkA42YDx"
      }
    },
    {
      "cell_type": "code",
      "source": [
        "# Create a set with elements 'a', 'b', 'c'\n",
        "my_set = {'a', 'b', 'c'}\n",
        "\n",
        "# Print the set\n",
        "print(\"Set:\", my_set)\n"
      ],
      "metadata": {
        "colab": {
          "base_uri": "https://localhost:8080/"
        },
        "id": "-cVD-s252eOj",
        "outputId": "1fa5fe35-3720-4ac3-9f43-8c7e946cb178"
      },
      "execution_count": null,
      "outputs": [
        {
          "output_type": "stream",
          "name": "stdout",
          "text": [
            "Set: {'a', 'c', 'b'}\n"
          ]
        }
      ]
    },
    {
      "cell_type": "markdown",
      "source": [
        "17.  Write a code to clear all elements from the set {1, 2, 3, 4, 5}."
      ],
      "metadata": {
        "id": "wzRUlTzQ2t1M"
      }
    },
    {
      "cell_type": "code",
      "source": [
        "# Define the set\n",
        "numbers = {1, 2, 3, 4, 5}\n",
        "\n",
        "# Clear all elements from the set\n",
        "numbers.clear()\n",
        "\n",
        "# Print the empty set\n",
        "print(\"Set after clearing:\", numbers)"
      ],
      "metadata": {
        "colab": {
          "base_uri": "https://localhost:8080/"
        },
        "id": "Dsozn49L2yoL",
        "outputId": "171b04b7-c9d3-44df-818e-f44c48cffe7f"
      },
      "execution_count": null,
      "outputs": [
        {
          "output_type": "stream",
          "name": "stdout",
          "text": [
            "Set after clearing: set()\n"
          ]
        }
      ]
    },
    {
      "cell_type": "markdown",
      "source": [
        "18. Write a code to remove the element 4 from the set {1, 2, 3, 4}."
      ],
      "metadata": {
        "id": "MIQn2GH-3kPd"
      }
    },
    {
      "cell_type": "code",
      "source": [
        "# Define the set\n",
        "my_set = {1, 2, 3, 4}\n",
        "\n",
        "# Remove the element 4\n",
        "my_set.remove(4)\n",
        "\n",
        "# Print the updated set\n",
        "print(\"Updated set:\", my_set)\n"
      ],
      "metadata": {
        "colab": {
          "base_uri": "https://localhost:8080/"
        },
        "id": "xfVyFcLp3okX",
        "outputId": "2997aab2-ff78-446f-8a42-cf06285d4b0a"
      },
      "execution_count": null,
      "outputs": [
        {
          "output_type": "stream",
          "name": "stdout",
          "text": [
            "Updated set: {1, 2, 3}\n"
          ]
        }
      ]
    },
    {
      "cell_type": "markdown",
      "source": [
        "19. Write a code to find the union of two sets {1, 2, 3} and {3, 4, 5}."
      ],
      "metadata": {
        "id": "tP4EXFxS3r9C"
      }
    },
    {
      "cell_type": "code",
      "source": [
        "# Define the sets\n",
        "set1 = {1, 2, 3}\n",
        "set2 = {3, 4, 5}\n",
        "\n",
        "# Find the union\n",
        "union_set = set1.union(set2)\n",
        "\n",
        "# Print the result\n",
        "print(\"Union of sets:\", union_set)"
      ],
      "metadata": {
        "colab": {
          "base_uri": "https://localhost:8080/"
        },
        "id": "wDMG1PYv3wah",
        "outputId": "0dbc9c77-aed3-4484-f6f3-73724b12a494"
      },
      "execution_count": null,
      "outputs": [
        {
          "output_type": "stream",
          "name": "stdout",
          "text": [
            "Union of sets: {1, 2, 3, 4, 5}\n"
          ]
        }
      ]
    },
    {
      "cell_type": "markdown",
      "source": [
        "20.  Write a code to find the intersection of two sets {1, 2, 3} and {2, 3, 4}."
      ],
      "metadata": {
        "id": "7WYCXpDe33q-"
      }
    },
    {
      "cell_type": "code",
      "source": [
        "# Define the sets\n",
        "set1 = {1, 2, 3}\n",
        "set2 = {2, 3, 4}\n",
        "\n",
        "# Find the intersection\n",
        "intersection_set = set1.intersection(set2)\n",
        "\n",
        "# Print the result\n",
        "print(\"Intersection of sets:\", intersection_set)"
      ],
      "metadata": {
        "colab": {
          "base_uri": "https://localhost:8080/"
        },
        "id": "0j-vT2Tk34rf",
        "outputId": "8cfe7d4b-3af5-4a4d-a6df-1274fcb26811"
      },
      "execution_count": null,
      "outputs": [
        {
          "output_type": "stream",
          "name": "stdout",
          "text": [
            "Intersection of sets: {2, 3}\n"
          ]
        }
      ]
    },
    {
      "cell_type": "markdown",
      "source": [
        "21. Write a code to create a dictionary with the keys \"name\", \"age\", and \"city\", and print it."
      ],
      "metadata": {
        "id": "8noU42n737tU"
      }
    },
    {
      "cell_type": "code",
      "source": [
        "# Create a dictionary\n",
        "person = {\n",
        "    \"name\": \"Rahul\",\n",
        "    \"age\": 25,\n",
        "    \"city\": \"Delhi\"\n",
        "}\n",
        "\n",
        "# Print the dictionary\n",
        "print(\"Dictionary:\", person)\n"
      ],
      "metadata": {
        "colab": {
          "base_uri": "https://localhost:8080/"
        },
        "id": "Rj8gviVf4AZA",
        "outputId": "17f42778-0c83-4b8c-9755-539b0de360ff"
      },
      "execution_count": null,
      "outputs": [
        {
          "output_type": "stream",
          "name": "stdout",
          "text": [
            "Dictionary: {'name': 'Rahul', 'age': 25, 'city': 'Delhi'}\n"
          ]
        }
      ]
    },
    {
      "cell_type": "markdown",
      "source": [
        "22. Write a code to add a new key-value pair \"country\": \"USA\" to the dictionary {'name': 'John', 'age': 25}."
      ],
      "metadata": {
        "id": "9bXyZAwj4SMg"
      }
    },
    {
      "cell_type": "code",
      "source": [
        "# Original dictionary\n",
        "person = {'name': 'John', 'age': 25}\n",
        "\n",
        "# Add new key-value pair\n",
        "person['country'] = 'USA'\n",
        "\n",
        "# Print the updated dictionary\n",
        "print(\"Updated dictionary:\", person)"
      ],
      "metadata": {
        "id": "JW_hHKTO4UBg",
        "outputId": "a35908c9-96f9-4f8e-bc1c-20d8cf02d49d",
        "colab": {
          "base_uri": "https://localhost:8080/"
        }
      },
      "execution_count": null,
      "outputs": [
        {
          "output_type": "stream",
          "name": "stdout",
          "text": [
            "Updated dictionary: {'name': 'John', 'age': 25, 'country': 'USA'}\n"
          ]
        }
      ]
    },
    {
      "cell_type": "markdown",
      "source": [
        "23. Write a code to access the value associated with the key \"name\" in the dictionary {'name': 'Alice', 'age': 30}"
      ],
      "metadata": {
        "id": "IsNw6g9L4Z0y"
      }
    },
    {
      "cell_type": "code",
      "source": [
        "# Define the dictionary\n",
        "person = {'name': 'Alice', 'age': 30}\n",
        "\n",
        "# Access the value associated with the key \"name\"\n",
        "name_value = person['name']\n",
        "\n",
        "# Print the value\n",
        "print(\"Name:\", name_value)"
      ],
      "metadata": {
        "id": "Rxn2q2uV4cF4",
        "colab": {
          "base_uri": "https://localhost:8080/"
        },
        "outputId": "51f31558-a688-4ee9-aa07-c7fff578b7fe"
      },
      "execution_count": 42,
      "outputs": [
        {
          "output_type": "stream",
          "name": "stdout",
          "text": [
            "Name: Alice\n"
          ]
        }
      ]
    },
    {
      "cell_type": "markdown",
      "source": [
        "24. Write a code to remove the key \"age\" from the dictionary {'name': 'Bob', 'age': 22, 'city': 'New York'}."
      ],
      "metadata": {
        "id": "Qvlo74qy5eOO"
      }
    },
    {
      "cell_type": "code",
      "source": [],
      "metadata": {
        "id": "JqvEeAMR5s_4"
      },
      "execution_count": null,
      "outputs": []
    }
  ]
}